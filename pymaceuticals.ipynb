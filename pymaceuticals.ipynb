{
 "cells": [
  {
   "cell_type": "markdown",
   "metadata": {},
   "source": [
    "# Pymaceuticals, Inc. Drug Regimen Analysis\n",
    "\n",
    "# Summary of Analysis\n",
    "Starting with the mouse data and the study results, first we combined the data to get a complete overview of the results. Then we verified that we had the complete dataset for all 249 mice and looked for any duplicate data by comparing the individual mice to the timepoints. We noticed there was one duplicate entry, so we removed this from our data set leaving us with results for 248 mice. \n",
    "\n",
    "Now that the duplicate was removed, we calculated mean, median, variance, standard deviation, and the standard error mean for the tumor volumes of each drug regimen. Then we created a bar plot to show the timepoints for each mouse. We generated a pie chart to see the sex distribution across the study data. We showed the Final tumor volumes for Capomulin, Ramicane, Infubinol, and Ceftamin in a box plot and looked for outliers for each regimen. Using a line chart we observed the tumor volume vs timepoints for individual mice treated with Capomulin. Finally we created a scatter plot of mouse weight vs. the average observed tumor volume with a trend line and calculated the correlation coefficient for Capomulin.\n",
    "# Conclusions\n",
    "  Capomulin and Ramicane had noticeably smaller mean, median, variance, standard deviation, and standard error means than the other regimens. This would indicate that the tumor volumes were lower more predictably with these two regimens. Given these results I would feel more confident with the study results for these two regimens.\n",
    "  \n",
    "Checking the line chart repeatedly with individual mice from the Capomulin regimen, the line graphs were consistent with a reduction in tumor volume over increasing time. Capomulin appears to be effective at reducing tumor volume.\n",
    "\n",
    "The scatter plot and trend line show a strong correlation between increase in weight and average tumor volume. With a correlation coefficient of 0.84 there is a very positive trend between weight and tumor volume. This demonstrates that higher weight is a significant indicator of larger tumor volume. \n",
    "\n"
   ]
  },
  {
   "cell_type": "code",
   "execution_count": 1,
   "metadata": {
    "tags": []
   },
   "outputs": [
    {
     "data": {
      "text/html": [
       "<div>\n",
       "<style scoped>\n",
       "    .dataframe tbody tr th:only-of-type {\n",
       "        vertical-align: middle;\n",
       "    }\n",
       "\n",
       "    .dataframe tbody tr th {\n",
       "        vertical-align: top;\n",
       "    }\n",
       "\n",
       "    .dataframe thead th {\n",
       "        text-align: right;\n",
       "    }\n",
       "</style>\n",
       "<table border=\"1\" class=\"dataframe\">\n",
       "  <thead>\n",
       "    <tr style=\"text-align: right;\">\n",
       "      <th></th>\n",
       "      <th>Mouse ID</th>\n",
       "      <th>Timepoint</th>\n",
       "      <th>Tumor Volume (mm3)</th>\n",
       "      <th>Metastatic Sites</th>\n",
       "      <th>Drug Regimen</th>\n",
       "      <th>Sex</th>\n",
       "      <th>Age_months</th>\n",
       "      <th>Weight (g)</th>\n",
       "    </tr>\n",
       "  </thead>\n",
       "  <tbody>\n",
       "    <tr>\n",
       "      <th>0</th>\n",
       "      <td>b128</td>\n",
       "      <td>0</td>\n",
       "      <td>45.0</td>\n",
       "      <td>0</td>\n",
       "      <td>Capomulin</td>\n",
       "      <td>Female</td>\n",
       "      <td>9</td>\n",
       "      <td>22</td>\n",
       "    </tr>\n",
       "    <tr>\n",
       "      <th>1</th>\n",
       "      <td>f932</td>\n",
       "      <td>0</td>\n",
       "      <td>45.0</td>\n",
       "      <td>0</td>\n",
       "      <td>Ketapril</td>\n",
       "      <td>Male</td>\n",
       "      <td>15</td>\n",
       "      <td>29</td>\n",
       "    </tr>\n",
       "    <tr>\n",
       "      <th>2</th>\n",
       "      <td>g107</td>\n",
       "      <td>0</td>\n",
       "      <td>45.0</td>\n",
       "      <td>0</td>\n",
       "      <td>Ketapril</td>\n",
       "      <td>Female</td>\n",
       "      <td>2</td>\n",
       "      <td>29</td>\n",
       "    </tr>\n",
       "    <tr>\n",
       "      <th>3</th>\n",
       "      <td>a457</td>\n",
       "      <td>0</td>\n",
       "      <td>45.0</td>\n",
       "      <td>0</td>\n",
       "      <td>Ketapril</td>\n",
       "      <td>Female</td>\n",
       "      <td>11</td>\n",
       "      <td>30</td>\n",
       "    </tr>\n",
       "    <tr>\n",
       "      <th>4</th>\n",
       "      <td>c819</td>\n",
       "      <td>0</td>\n",
       "      <td>45.0</td>\n",
       "      <td>0</td>\n",
       "      <td>Ketapril</td>\n",
       "      <td>Male</td>\n",
       "      <td>21</td>\n",
       "      <td>25</td>\n",
       "    </tr>\n",
       "  </tbody>\n",
       "</table>\n",
       "</div>"
      ],
      "text/plain": [
       "  Mouse ID  Timepoint  Tumor Volume (mm3)  Metastatic Sites Drug Regimen  \\\n",
       "0     b128          0                45.0                 0    Capomulin   \n",
       "1     f932          0                45.0                 0     Ketapril   \n",
       "2     g107          0                45.0                 0     Ketapril   \n",
       "3     a457          0                45.0                 0     Ketapril   \n",
       "4     c819          0                45.0                 0     Ketapril   \n",
       "\n",
       "      Sex  Age_months  Weight (g)  \n",
       "0  Female           9          22  \n",
       "1    Male          15          29  \n",
       "2  Female           2          29  \n",
       "3  Female          11          30  \n",
       "4    Male          21          25  "
      ]
     },
     "execution_count": 1,
     "metadata": {},
     "output_type": "execute_result"
    }
   ],
   "source": [
    "# Dependencies and Setup\n",
    "import matplotlib.pyplot as plt\n",
    "import pandas as pd\n",
    "import numpy as np\n",
    "import scipy.stats as st\n",
    "\n",
    "# Study data files\n",
    "mouse_metadata_path = \"data/Mouse_metadata.csv\"\n",
    "study_results_path = \"data/Study_results.csv\"\n",
    "\n",
    "# Read the mouse data and the study results\n",
    "mouse_metadata = pd.read_csv(mouse_metadata_path)\n",
    "study_results = pd.read_csv(study_results_path)\n",
    "\n",
    "# Combine the data into a single DataFrame\n",
    "combined_data = pd.merge(study_results, mouse_metadata, how='outer', on='Mouse ID')\n",
    "\n",
    "#Sort data and set rest the index\n",
    "combined_data = combined_data.sort_values(['Timepoint','Metastatic Sites'], ascending = [True, False]).reset_index(drop = True)\n",
    "\n",
    "\n",
    "# Display the data table for preview\n",
    "combined_data.head()\n",
    "# combined_data.count()\n"
   ]
  },
  {
   "cell_type": "code",
   "execution_count": 2,
   "metadata": {
    "tags": []
   },
   "outputs": [
    {
     "data": {
      "text/plain": [
       "249"
      ]
     },
     "execution_count": 2,
     "metadata": {},
     "output_type": "execute_result"
    }
   ],
   "source": [
    "# Checking the number of mice.\n",
    "num_mice = combined_data['Mouse ID'].nunique()\n",
    "num_mice"
   ]
  },
  {
   "cell_type": "code",
   "execution_count": 3,
   "metadata": {
    "tags": []
   },
   "outputs": [
    {
     "data": {
      "text/plain": [
       "array(['g989'], dtype=object)"
      ]
     },
     "execution_count": 3,
     "metadata": {},
     "output_type": "execute_result"
    }
   ],
   "source": [
    "# Our data should be uniquely identified by Mouse ID and Timepoint\n",
    "# Get the duplicate mice by ID number that shows up for Mouse ID and Timepoint. \n",
    "duplicate = combined_data[combined_data.duplicated(subset = ['Mouse ID', 'Timepoint'], keep = False)]\n",
    "duplicate_ids = duplicate['Mouse ID'].unique()\n",
    "duplicate_ids"
   ]
  },
  {
   "cell_type": "code",
   "execution_count": 4,
   "metadata": {
    "tags": []
   },
   "outputs": [
    {
     "data": {
      "text/html": [
       "<div>\n",
       "<style scoped>\n",
       "    .dataframe tbody tr th:only-of-type {\n",
       "        vertical-align: middle;\n",
       "    }\n",
       "\n",
       "    .dataframe tbody tr th {\n",
       "        vertical-align: top;\n",
       "    }\n",
       "\n",
       "    .dataframe thead th {\n",
       "        text-align: right;\n",
       "    }\n",
       "</style>\n",
       "<table border=\"1\" class=\"dataframe\">\n",
       "  <thead>\n",
       "    <tr style=\"text-align: right;\">\n",
       "      <th></th>\n",
       "      <th>Mouse ID</th>\n",
       "      <th>Timepoint</th>\n",
       "      <th>Tumor Volume (mm3)</th>\n",
       "      <th>Metastatic Sites</th>\n",
       "      <th>Drug Regimen</th>\n",
       "      <th>Sex</th>\n",
       "      <th>Age_months</th>\n",
       "      <th>Weight (g)</th>\n",
       "    </tr>\n",
       "  </thead>\n",
       "  <tbody>\n",
       "    <tr>\n",
       "      <th>107</th>\n",
       "      <td>g989</td>\n",
       "      <td>0</td>\n",
       "      <td>45.000000</td>\n",
       "      <td>0</td>\n",
       "      <td>Propriva</td>\n",
       "      <td>Female</td>\n",
       "      <td>21</td>\n",
       "      <td>26</td>\n",
       "    </tr>\n",
       "    <tr>\n",
       "      <th>108</th>\n",
       "      <td>g989</td>\n",
       "      <td>0</td>\n",
       "      <td>45.000000</td>\n",
       "      <td>0</td>\n",
       "      <td>Propriva</td>\n",
       "      <td>Female</td>\n",
       "      <td>21</td>\n",
       "      <td>26</td>\n",
       "    </tr>\n",
       "    <tr>\n",
       "      <th>389</th>\n",
       "      <td>g989</td>\n",
       "      <td>5</td>\n",
       "      <td>48.786801</td>\n",
       "      <td>0</td>\n",
       "      <td>Propriva</td>\n",
       "      <td>Female</td>\n",
       "      <td>21</td>\n",
       "      <td>26</td>\n",
       "    </tr>\n",
       "    <tr>\n",
       "      <th>390</th>\n",
       "      <td>g989</td>\n",
       "      <td>5</td>\n",
       "      <td>47.570392</td>\n",
       "      <td>0</td>\n",
       "      <td>Propriva</td>\n",
       "      <td>Female</td>\n",
       "      <td>21</td>\n",
       "      <td>26</td>\n",
       "    </tr>\n",
       "    <tr>\n",
       "      <th>646</th>\n",
       "      <td>g989</td>\n",
       "      <td>10</td>\n",
       "      <td>51.745156</td>\n",
       "      <td>0</td>\n",
       "      <td>Propriva</td>\n",
       "      <td>Female</td>\n",
       "      <td>21</td>\n",
       "      <td>26</td>\n",
       "    </tr>\n",
       "    <tr>\n",
       "      <th>647</th>\n",
       "      <td>g989</td>\n",
       "      <td>10</td>\n",
       "      <td>49.880528</td>\n",
       "      <td>0</td>\n",
       "      <td>Propriva</td>\n",
       "      <td>Female</td>\n",
       "      <td>21</td>\n",
       "      <td>26</td>\n",
       "    </tr>\n",
       "    <tr>\n",
       "      <th>782</th>\n",
       "      <td>g989</td>\n",
       "      <td>15</td>\n",
       "      <td>51.325852</td>\n",
       "      <td>1</td>\n",
       "      <td>Propriva</td>\n",
       "      <td>Female</td>\n",
       "      <td>21</td>\n",
       "      <td>26</td>\n",
       "    </tr>\n",
       "    <tr>\n",
       "      <th>872</th>\n",
       "      <td>g989</td>\n",
       "      <td>15</td>\n",
       "      <td>53.442020</td>\n",
       "      <td>0</td>\n",
       "      <td>Propriva</td>\n",
       "      <td>Female</td>\n",
       "      <td>21</td>\n",
       "      <td>26</td>\n",
       "    </tr>\n",
       "    <tr>\n",
       "      <th>1002</th>\n",
       "      <td>g989</td>\n",
       "      <td>20</td>\n",
       "      <td>55.326122</td>\n",
       "      <td>1</td>\n",
       "      <td>Propriva</td>\n",
       "      <td>Female</td>\n",
       "      <td>21</td>\n",
       "      <td>26</td>\n",
       "    </tr>\n",
       "    <tr>\n",
       "      <th>1003</th>\n",
       "      <td>g989</td>\n",
       "      <td>20</td>\n",
       "      <td>54.657650</td>\n",
       "      <td>1</td>\n",
       "      <td>Propriva</td>\n",
       "      <td>Female</td>\n",
       "      <td>21</td>\n",
       "      <td>26</td>\n",
       "    </tr>\n",
       "    <tr>\n",
       "      <th>1218</th>\n",
       "      <td>g989</td>\n",
       "      <td>25</td>\n",
       "      <td>56.045564</td>\n",
       "      <td>1</td>\n",
       "      <td>Propriva</td>\n",
       "      <td>Female</td>\n",
       "      <td>21</td>\n",
       "      <td>26</td>\n",
       "    </tr>\n",
       "    <tr>\n",
       "      <th>1405</th>\n",
       "      <td>g989</td>\n",
       "      <td>30</td>\n",
       "      <td>59.082294</td>\n",
       "      <td>1</td>\n",
       "      <td>Propriva</td>\n",
       "      <td>Female</td>\n",
       "      <td>21</td>\n",
       "      <td>26</td>\n",
       "    </tr>\n",
       "    <tr>\n",
       "      <th>1528</th>\n",
       "      <td>g989</td>\n",
       "      <td>35</td>\n",
       "      <td>62.570880</td>\n",
       "      <td>2</td>\n",
       "      <td>Propriva</td>\n",
       "      <td>Female</td>\n",
       "      <td>21</td>\n",
       "      <td>26</td>\n",
       "    </tr>\n",
       "  </tbody>\n",
       "</table>\n",
       "</div>"
      ],
      "text/plain": [
       "     Mouse ID  Timepoint  Tumor Volume (mm3)  Metastatic Sites Drug Regimen  \\\n",
       "107      g989          0           45.000000                 0     Propriva   \n",
       "108      g989          0           45.000000                 0     Propriva   \n",
       "389      g989          5           48.786801                 0     Propriva   \n",
       "390      g989          5           47.570392                 0     Propriva   \n",
       "646      g989         10           51.745156                 0     Propriva   \n",
       "647      g989         10           49.880528                 0     Propriva   \n",
       "782      g989         15           51.325852                 1     Propriva   \n",
       "872      g989         15           53.442020                 0     Propriva   \n",
       "1002     g989         20           55.326122                 1     Propriva   \n",
       "1003     g989         20           54.657650                 1     Propriva   \n",
       "1218     g989         25           56.045564                 1     Propriva   \n",
       "1405     g989         30           59.082294                 1     Propriva   \n",
       "1528     g989         35           62.570880                 2     Propriva   \n",
       "\n",
       "         Sex  Age_months  Weight (g)  \n",
       "107   Female          21          26  \n",
       "108   Female          21          26  \n",
       "389   Female          21          26  \n",
       "390   Female          21          26  \n",
       "646   Female          21          26  \n",
       "647   Female          21          26  \n",
       "782   Female          21          26  \n",
       "872   Female          21          26  \n",
       "1002  Female          21          26  \n",
       "1003  Female          21          26  \n",
       "1218  Female          21          26  \n",
       "1405  Female          21          26  \n",
       "1528  Female          21          26  "
      ]
     },
     "execution_count": 4,
     "metadata": {},
     "output_type": "execute_result"
    }
   ],
   "source": [
    "# Optional: Get all the data for the duplicate mouse ID. \n",
    "value = duplicate_ids[0]\n",
    "duplicate_data = combined_data.loc[combined_data['Mouse ID'] == value]\n",
    "duplicate_data"
   ]
  },
  {
   "cell_type": "code",
   "execution_count": 5,
   "metadata": {
    "tags": []
   },
   "outputs": [
    {
     "data": {
      "text/html": [
       "<div>\n",
       "<style scoped>\n",
       "    .dataframe tbody tr th:only-of-type {\n",
       "        vertical-align: middle;\n",
       "    }\n",
       "\n",
       "    .dataframe tbody tr th {\n",
       "        vertical-align: top;\n",
       "    }\n",
       "\n",
       "    .dataframe thead th {\n",
       "        text-align: right;\n",
       "    }\n",
       "</style>\n",
       "<table border=\"1\" class=\"dataframe\">\n",
       "  <thead>\n",
       "    <tr style=\"text-align: right;\">\n",
       "      <th></th>\n",
       "      <th>Mouse ID</th>\n",
       "      <th>Timepoint</th>\n",
       "      <th>Tumor Volume (mm3)</th>\n",
       "      <th>Metastatic Sites</th>\n",
       "      <th>Drug Regimen</th>\n",
       "      <th>Sex</th>\n",
       "      <th>Age_months</th>\n",
       "      <th>Weight (g)</th>\n",
       "    </tr>\n",
       "  </thead>\n",
       "  <tbody>\n",
       "    <tr>\n",
       "      <th>0</th>\n",
       "      <td>b128</td>\n",
       "      <td>0</td>\n",
       "      <td>45.0</td>\n",
       "      <td>0</td>\n",
       "      <td>Capomulin</td>\n",
       "      <td>Female</td>\n",
       "      <td>9</td>\n",
       "      <td>22</td>\n",
       "    </tr>\n",
       "    <tr>\n",
       "      <th>1</th>\n",
       "      <td>f932</td>\n",
       "      <td>0</td>\n",
       "      <td>45.0</td>\n",
       "      <td>0</td>\n",
       "      <td>Ketapril</td>\n",
       "      <td>Male</td>\n",
       "      <td>15</td>\n",
       "      <td>29</td>\n",
       "    </tr>\n",
       "    <tr>\n",
       "      <th>2</th>\n",
       "      <td>g107</td>\n",
       "      <td>0</td>\n",
       "      <td>45.0</td>\n",
       "      <td>0</td>\n",
       "      <td>Ketapril</td>\n",
       "      <td>Female</td>\n",
       "      <td>2</td>\n",
       "      <td>29</td>\n",
       "    </tr>\n",
       "    <tr>\n",
       "      <th>3</th>\n",
       "      <td>a457</td>\n",
       "      <td>0</td>\n",
       "      <td>45.0</td>\n",
       "      <td>0</td>\n",
       "      <td>Ketapril</td>\n",
       "      <td>Female</td>\n",
       "      <td>11</td>\n",
       "      <td>30</td>\n",
       "    </tr>\n",
       "    <tr>\n",
       "      <th>4</th>\n",
       "      <td>c819</td>\n",
       "      <td>0</td>\n",
       "      <td>45.0</td>\n",
       "      <td>0</td>\n",
       "      <td>Ketapril</td>\n",
       "      <td>Male</td>\n",
       "      <td>21</td>\n",
       "      <td>25</td>\n",
       "    </tr>\n",
       "  </tbody>\n",
       "</table>\n",
       "</div>"
      ],
      "text/plain": [
       "  Mouse ID  Timepoint  Tumor Volume (mm3)  Metastatic Sites Drug Regimen  \\\n",
       "0     b128          0                45.0                 0    Capomulin   \n",
       "1     f932          0                45.0                 0     Ketapril   \n",
       "2     g107          0                45.0                 0     Ketapril   \n",
       "3     a457          0                45.0                 0     Ketapril   \n",
       "4     c819          0                45.0                 0     Ketapril   \n",
       "\n",
       "      Sex  Age_months  Weight (g)  \n",
       "0  Female           9          22  \n",
       "1    Male          15          29  \n",
       "2  Female           2          29  \n",
       "3  Female          11          30  \n",
       "4    Male          21          25  "
      ]
     },
     "execution_count": 5,
     "metadata": {},
     "output_type": "execute_result"
    }
   ],
   "source": [
    "# Create a clean DataFrame by dropping the duplicate mouse by its ID.\n",
    "cleaned = combined_data.loc[combined_data['Mouse ID'] != value]\n",
    "cleaned.head()\n",
    "# cleaned.count()"
   ]
  },
  {
   "cell_type": "code",
   "execution_count": 6,
   "metadata": {
    "tags": []
   },
   "outputs": [
    {
     "data": {
      "text/plain": [
       "248"
      ]
     },
     "execution_count": 6,
     "metadata": {},
     "output_type": "execute_result"
    }
   ],
   "source": [
    "# Checking the number of mice in the clean DataFrame.\n",
    "num_mice = cleaned['Mouse ID'].nunique()\n",
    "num_mice"
   ]
  },
  {
   "cell_type": "markdown",
   "metadata": {},
   "source": [
    "## Summary Statistics"
   ]
  },
  {
   "cell_type": "code",
   "execution_count": 7,
   "metadata": {
    "tags": []
   },
   "outputs": [
    {
     "data": {
      "text/html": [
       "<div>\n",
       "<style scoped>\n",
       "    .dataframe tbody tr th:only-of-type {\n",
       "        vertical-align: middle;\n",
       "    }\n",
       "\n",
       "    .dataframe tbody tr th {\n",
       "        vertical-align: top;\n",
       "    }\n",
       "\n",
       "    .dataframe thead th {\n",
       "        text-align: right;\n",
       "    }\n",
       "</style>\n",
       "<table border=\"1\" class=\"dataframe\">\n",
       "  <thead>\n",
       "    <tr style=\"text-align: right;\">\n",
       "      <th></th>\n",
       "      <th>Mean Tumor Volume</th>\n",
       "      <th>Median Tumor Volume</th>\n",
       "      <th>Tumor Volume Variance</th>\n",
       "      <th>Tumor Volume Std. Dev</th>\n",
       "      <th>Tumor Volume Std. Err.</th>\n",
       "    </tr>\n",
       "    <tr>\n",
       "      <th>Drug Regimen</th>\n",
       "      <th></th>\n",
       "      <th></th>\n",
       "      <th></th>\n",
       "      <th></th>\n",
       "      <th></th>\n",
       "    </tr>\n",
       "  </thead>\n",
       "  <tbody>\n",
       "    <tr>\n",
       "      <th>Capomulin</th>\n",
       "      <td>40.675741</td>\n",
       "      <td>41.557809</td>\n",
       "      <td>24.947764</td>\n",
       "      <td>4.994774</td>\n",
       "      <td>0.329346</td>\n",
       "    </tr>\n",
       "    <tr>\n",
       "      <th>Ceftamin</th>\n",
       "      <td>52.591172</td>\n",
       "      <td>51.776157</td>\n",
       "      <td>39.290177</td>\n",
       "      <td>6.268188</td>\n",
       "      <td>0.469821</td>\n",
       "    </tr>\n",
       "    <tr>\n",
       "      <th>Infubinol</th>\n",
       "      <td>52.884795</td>\n",
       "      <td>51.820584</td>\n",
       "      <td>43.128684</td>\n",
       "      <td>6.567243</td>\n",
       "      <td>0.492236</td>\n",
       "    </tr>\n",
       "    <tr>\n",
       "      <th>Ketapril</th>\n",
       "      <td>55.235638</td>\n",
       "      <td>53.698743</td>\n",
       "      <td>68.553577</td>\n",
       "      <td>8.279709</td>\n",
       "      <td>0.603860</td>\n",
       "    </tr>\n",
       "    <tr>\n",
       "      <th>Naftisol</th>\n",
       "      <td>54.331565</td>\n",
       "      <td>52.509285</td>\n",
       "      <td>66.173479</td>\n",
       "      <td>8.134708</td>\n",
       "      <td>0.596466</td>\n",
       "    </tr>\n",
       "    <tr>\n",
       "      <th>Placebo</th>\n",
       "      <td>54.033581</td>\n",
       "      <td>52.288934</td>\n",
       "      <td>61.168083</td>\n",
       "      <td>7.821003</td>\n",
       "      <td>0.581331</td>\n",
       "    </tr>\n",
       "    <tr>\n",
       "      <th>Propriva</th>\n",
       "      <td>52.320930</td>\n",
       "      <td>50.446266</td>\n",
       "      <td>43.852013</td>\n",
       "      <td>6.622085</td>\n",
       "      <td>0.544332</td>\n",
       "    </tr>\n",
       "    <tr>\n",
       "      <th>Ramicane</th>\n",
       "      <td>40.216745</td>\n",
       "      <td>40.673236</td>\n",
       "      <td>23.486704</td>\n",
       "      <td>4.846308</td>\n",
       "      <td>0.320955</td>\n",
       "    </tr>\n",
       "    <tr>\n",
       "      <th>Stelasyn</th>\n",
       "      <td>54.233149</td>\n",
       "      <td>52.431737</td>\n",
       "      <td>59.450562</td>\n",
       "      <td>7.710419</td>\n",
       "      <td>0.573111</td>\n",
       "    </tr>\n",
       "    <tr>\n",
       "      <th>Zoniferol</th>\n",
       "      <td>53.236507</td>\n",
       "      <td>51.818479</td>\n",
       "      <td>48.533355</td>\n",
       "      <td>6.966589</td>\n",
       "      <td>0.516398</td>\n",
       "    </tr>\n",
       "  </tbody>\n",
       "</table>\n",
       "</div>"
      ],
      "text/plain": [
       "              Mean Tumor Volume  Median Tumor Volume  Tumor Volume Variance  \\\n",
       "Drug Regimen                                                                  \n",
       "Capomulin             40.675741            41.557809              24.947764   \n",
       "Ceftamin              52.591172            51.776157              39.290177   \n",
       "Infubinol             52.884795            51.820584              43.128684   \n",
       "Ketapril              55.235638            53.698743              68.553577   \n",
       "Naftisol              54.331565            52.509285              66.173479   \n",
       "Placebo               54.033581            52.288934              61.168083   \n",
       "Propriva              52.320930            50.446266              43.852013   \n",
       "Ramicane              40.216745            40.673236              23.486704   \n",
       "Stelasyn              54.233149            52.431737              59.450562   \n",
       "Zoniferol             53.236507            51.818479              48.533355   \n",
       "\n",
       "              Tumor Volume Std. Dev  Tumor Volume Std. Err.  \n",
       "Drug Regimen                                                 \n",
       "Capomulin                  4.994774                0.329346  \n",
       "Ceftamin                   6.268188                0.469821  \n",
       "Infubinol                  6.567243                0.492236  \n",
       "Ketapril                   8.279709                0.603860  \n",
       "Naftisol                   8.134708                0.596466  \n",
       "Placebo                    7.821003                0.581331  \n",
       "Propriva                   6.622085                0.544332  \n",
       "Ramicane                   4.846308                0.320955  \n",
       "Stelasyn                   7.710419                0.573111  \n",
       "Zoniferol                  6.966589                0.516398  "
      ]
     },
     "execution_count": 7,
     "metadata": {},
     "output_type": "execute_result"
    }
   ],
   "source": [
    "# Generate a summary statistics table of mean, median, variance, standard deviation, and SEM of the tumor volume for each regimen\n",
    "\n",
    "# Use groupby and summary statistical methods to calculate the following properties of each drug regimen: \n",
    "# mean, median, variance, standard deviation, and SEM of the tumor volume. \n",
    "# Assemble the resulting series into a single summary DataFrame.\n",
    "Mean_Tumor_Volume = pd.DataFrame(cleaned.groupby(['Drug Regimen'])[\"Tumor Volume (mm3)\"].mean()).rename(columns={'Tumor Volume (mm3)':'Mean Tumor Volume'})\n",
    "Median_Tumor_Volume = pd.DataFrame(cleaned.groupby(['Drug Regimen'])[\"Tumor Volume (mm3)\"].median()).rename(columns={'Tumor Volume (mm3)':'Median Tumor Volume'})\n",
    "Tumor_Volume_Variance = pd.DataFrame(cleaned.groupby(['Drug Regimen'])[\"Tumor Volume (mm3)\"].var()).rename(columns={'Tumor Volume (mm3)':'Tumor Volume Variance'})\n",
    "Tumor_Volume_std = pd.DataFrame(cleaned.groupby(['Drug Regimen'])[\"Tumor Volume (mm3)\"].std()).rename(columns={'Tumor Volume (mm3)':'Tumor Volume Std. Dev'})\n",
    "Tumor_Volume_sem = pd.DataFrame(cleaned.groupby(['Drug Regimen'])[\"Tumor Volume (mm3)\"].sem()).rename(columns={'Tumor Volume (mm3)':'Tumor Volume Std. Err.'})\n",
    "\n",
    "summary_statistics = pd.merge(Mean_Tumor_Volume, Median_Tumor_Volume, how=\"inner\", on=['Drug Regimen'])\n",
    "summary_statistics = pd.merge(summary_statistics, Tumor_Volume_Variance, how=\"inner\", on=['Drug Regimen'])\n",
    "summary_statistics = pd.merge(summary_statistics, Tumor_Volume_std, how=\"inner\", on=['Drug Regimen'])\n",
    "summary_statistics = pd.merge(summary_statistics, Tumor_Volume_sem, how=\"inner\", on=['Drug Regimen'])\n",
    "\n",
    "\n",
    "summary_statistics"
   ]
  },
  {
   "cell_type": "code",
   "execution_count": 8,
   "metadata": {
    "tags": []
   },
   "outputs": [
    {
     "data": {
      "text/html": [
       "<div>\n",
       "<style scoped>\n",
       "    .dataframe tbody tr th:only-of-type {\n",
       "        vertical-align: middle;\n",
       "    }\n",
       "\n",
       "    .dataframe tbody tr th {\n",
       "        vertical-align: top;\n",
       "    }\n",
       "\n",
       "    .dataframe thead th {\n",
       "        text-align: right;\n",
       "    }\n",
       "</style>\n",
       "<table border=\"1\" class=\"dataframe\">\n",
       "  <thead>\n",
       "    <tr style=\"text-align: right;\">\n",
       "      <th></th>\n",
       "      <th>mean</th>\n",
       "      <th>median</th>\n",
       "      <th>var</th>\n",
       "      <th>std</th>\n",
       "      <th>sem</th>\n",
       "    </tr>\n",
       "    <tr>\n",
       "      <th>Drug Regimen</th>\n",
       "      <th></th>\n",
       "      <th></th>\n",
       "      <th></th>\n",
       "      <th></th>\n",
       "      <th></th>\n",
       "    </tr>\n",
       "  </thead>\n",
       "  <tbody>\n",
       "    <tr>\n",
       "      <th>Capomulin</th>\n",
       "      <td>40.675741</td>\n",
       "      <td>41.557809</td>\n",
       "      <td>24.947764</td>\n",
       "      <td>4.994774</td>\n",
       "      <td>0.329346</td>\n",
       "    </tr>\n",
       "    <tr>\n",
       "      <th>Ceftamin</th>\n",
       "      <td>52.591172</td>\n",
       "      <td>51.776157</td>\n",
       "      <td>39.290177</td>\n",
       "      <td>6.268188</td>\n",
       "      <td>0.469821</td>\n",
       "    </tr>\n",
       "    <tr>\n",
       "      <th>Infubinol</th>\n",
       "      <td>52.884795</td>\n",
       "      <td>51.820584</td>\n",
       "      <td>43.128684</td>\n",
       "      <td>6.567243</td>\n",
       "      <td>0.492236</td>\n",
       "    </tr>\n",
       "    <tr>\n",
       "      <th>Ketapril</th>\n",
       "      <td>55.235638</td>\n",
       "      <td>53.698743</td>\n",
       "      <td>68.553577</td>\n",
       "      <td>8.279709</td>\n",
       "      <td>0.603860</td>\n",
       "    </tr>\n",
       "    <tr>\n",
       "      <th>Naftisol</th>\n",
       "      <td>54.331565</td>\n",
       "      <td>52.509285</td>\n",
       "      <td>66.173479</td>\n",
       "      <td>8.134708</td>\n",
       "      <td>0.596466</td>\n",
       "    </tr>\n",
       "    <tr>\n",
       "      <th>Placebo</th>\n",
       "      <td>54.033581</td>\n",
       "      <td>52.288934</td>\n",
       "      <td>61.168083</td>\n",
       "      <td>7.821003</td>\n",
       "      <td>0.581331</td>\n",
       "    </tr>\n",
       "    <tr>\n",
       "      <th>Propriva</th>\n",
       "      <td>52.320930</td>\n",
       "      <td>50.446266</td>\n",
       "      <td>43.852013</td>\n",
       "      <td>6.622085</td>\n",
       "      <td>0.544332</td>\n",
       "    </tr>\n",
       "    <tr>\n",
       "      <th>Ramicane</th>\n",
       "      <td>40.216745</td>\n",
       "      <td>40.673236</td>\n",
       "      <td>23.486704</td>\n",
       "      <td>4.846308</td>\n",
       "      <td>0.320955</td>\n",
       "    </tr>\n",
       "    <tr>\n",
       "      <th>Stelasyn</th>\n",
       "      <td>54.233149</td>\n",
       "      <td>52.431737</td>\n",
       "      <td>59.450562</td>\n",
       "      <td>7.710419</td>\n",
       "      <td>0.573111</td>\n",
       "    </tr>\n",
       "    <tr>\n",
       "      <th>Zoniferol</th>\n",
       "      <td>53.236507</td>\n",
       "      <td>51.818479</td>\n",
       "      <td>48.533355</td>\n",
       "      <td>6.966589</td>\n",
       "      <td>0.516398</td>\n",
       "    </tr>\n",
       "  </tbody>\n",
       "</table>\n",
       "</div>"
      ],
      "text/plain": [
       "                   mean     median        var       std       sem\n",
       "Drug Regimen                                                     \n",
       "Capomulin     40.675741  41.557809  24.947764  4.994774  0.329346\n",
       "Ceftamin      52.591172  51.776157  39.290177  6.268188  0.469821\n",
       "Infubinol     52.884795  51.820584  43.128684  6.567243  0.492236\n",
       "Ketapril      55.235638  53.698743  68.553577  8.279709  0.603860\n",
       "Naftisol      54.331565  52.509285  66.173479  8.134708  0.596466\n",
       "Placebo       54.033581  52.288934  61.168083  7.821003  0.581331\n",
       "Propriva      52.320930  50.446266  43.852013  6.622085  0.544332\n",
       "Ramicane      40.216745  40.673236  23.486704  4.846308  0.320955\n",
       "Stelasyn      54.233149  52.431737  59.450562  7.710419  0.573111\n",
       "Zoniferol     53.236507  51.818479  48.533355  6.966589  0.516398"
      ]
     },
     "execution_count": 8,
     "metadata": {},
     "output_type": "execute_result"
    }
   ],
   "source": [
    "# A more advanced method to generate a summary statistics table of mean, median, variance, standard deviation,\n",
    "# and SEM of the tumor volume for each regimen (only one method is required in the solution)\n",
    "\n",
    "# Using the aggregation method, produce the same summary statistics in a single line\n",
    "aggregated_statistics = cleaned.groupby(['Drug Regimen'])[\"Tumor Volume (mm3)\"].agg(['mean','median','var', 'std', 'sem'])\n",
    "aggregated_statistics"
   ]
  },
  {
   "cell_type": "markdown",
   "metadata": {},
   "source": [
    "## Bar and Pie Charts"
   ]
  },
  {
   "cell_type": "code",
   "execution_count": 9,
   "metadata": {
    "tags": []
   },
   "outputs": [
    {
     "data": {
      "image/png": "[encoded data removed]",
      "text/plain": [
       "<Figure size 640x480 with 1 Axes>"
      ]
     },
     "metadata": {},
     "output_type": "display_data"
    }
   ],
   "source": [
    "# Generate a bar plot showing the total number of rows (Mouse ID/Timepoints) for each drug regimen using Pandas.\n",
    "\n",
    "#I verified that the Mouse ID and Timepoint returned the same value so just used Mouse ID\n",
    "drug_mouse = pd.DataFrame(cleaned.groupby(['Drug Regimen'])['Mouse ID'].count().sort_values(ascending=False))\n",
    "\n",
    "drug_regimen = list(drug_mouse.index.values)\n",
    "mouse_timepoints = list(drug_mouse['Mouse ID'])\n",
    "\n",
    "#define bar graph in Pandas\n",
    "pandaplot = drug_mouse.plot.bar(rot=89, color='tab:blue',legend=False)\n",
    "\n",
    "\n",
    "#Set xticks, labels, and adjust size of plot area\n",
    "plt.xticks(rotation='vertical')\n",
    "plt.xlabel(\"Drug Regimen\")\n",
    "plt.ylabel(\"# of Observed Mouse Timepoints\")\n",
    "plt.xlim(-0.45, len(drug_regimen)-0.55)\n",
    "plt.ylim(0, max(mouse_timepoints) + 10)\n",
    "\n",
    "#Showtime\n",
    "plt.show()"
   ]
  },
  {
   "cell_type": "code",
   "execution_count": 10,
   "metadata": {
    "tags": []
   },
   "outputs": [
    {
     "data": {
      "image/png": "[encoded data removed]",
      "text/plain": [
       "<Figure size 640x480 with 1 Axes>"
      ]
     },
     "metadata": {},
     "output_type": "display_data"
    }
   ],
   "source": [
    "# Generate a bar plot showing the total number of rows (Mouse ID/Timepoints) for each drug regimen using pyplot.\n",
    "\n",
    "#get x and y axis in list form\n",
    "drug_regimen = list(drug_mouse.index.values)\n",
    "mouse_timepoints = list(drug_mouse['Mouse ID'])\n",
    "\n",
    "#define bar graph in pyplot\n",
    "plt.bar(drug_regimen, mouse_timepoints, color='tab:blue', alpha=1, align=\"center\", width=0.5)\n",
    "\n",
    "#Set xticks, labels, and adjust size of plot area\n",
    "plt.xticks(rotation='vertical')\n",
    "plt.xlabel(\"Drug Regimen\")\n",
    "plt.ylabel(\"# of Observed Mouse Timepoints\")\n",
    "plt.xlim(-0.45, len(drug_regimen)-0.55)\n",
    "plt.ylim(0, max(mouse_timepoints) + 10)\n",
    "\n",
    "#Showtime\n",
    "plt.show()"
   ]
  },
  {
   "cell_type": "code",
   "execution_count": 11,
   "metadata": {
    "tags": []
   },
   "outputs": [
    {
     "data": {
      "image/png": "[encoded data removed]",
      "text/plain": [
       "<Figure size 500x500 with 1 Axes>"
      ]
     },
     "metadata": {},
     "output_type": "display_data"
    }
   ],
   "source": [
    "# Generate a pie plot showing the distribution of female versus male mice using Pandas\n",
    "\n",
    "#define dataframe and pie chart using Pandas\n",
    "pandapie = pd.DataFrame(cleaned['Sex'].value_counts())\n",
    "pandapie = pandapie.plot.pie(y='Sex', figsize=(5, 5), legend=False, autopct='%1.1f%%')\n",
    "\n"
   ]
  },
  {
   "cell_type": "code",
   "execution_count": 12,
   "metadata": {
    "tags": []
   },
   "outputs": [
    {
     "data": {
      "image/png": "[encoded data removed]",
      "text/plain": [
       "<Figure size 640x480 with 1 Axes>"
      ]
     },
     "metadata": {},
     "output_type": "display_data"
    }
   ],
   "source": [
    "# Generate a pie plot showing the distribution of female versus male mice using pyplot\n",
    "#calculate the number of male and female mice. num_mice is the total from above\n",
    "sex_counts = cleaned['Sex'].value_counts()\n",
    "male_percent = sex_counts[0]/num_mice *100\n",
    "Female = sex_counts[1]/num_mice *100\n",
    "sizes = [male_percent, Female]\n",
    "labels = ['Male', 'Female']\n",
    "plt.title('Sex',pad=32)\n",
    "\n",
    "plt.pie(sizes, labels=labels, autopct='%1.1f%%')\n",
    "#Showtime\n",
    "plt.axis(\"equal\")\n",
    "plt.show()"
   ]
  },
  {
   "cell_type": "markdown",
   "metadata": {},
   "source": [
    "## Quartiles, Outliers and Boxplots"
   ]
  },
  {
   "cell_type": "code",
   "execution_count": 13,
   "metadata": {
    "tags": []
   },
   "outputs": [],
   "source": [
    "# Calculate the final tumor volume of each mouse across four of the treatment regimens:  \n",
    "# Capomulin, Ramicane, Infubinol, and Ceftamin\n",
    "                                             \n",
    "# Start by getting the last (greatest) timepoint for each mouse\n",
    "Capomulin_final_vol = cleaned.loc[cleaned['Drug Regimen'] == \"Capomulin\"].nlargest(1,['Timepoint'])['Tumor Volume (mm3)']\n",
    "Ramicane_final_vol = cleaned.loc[cleaned['Drug Regimen'] == \"Ramicane\"].nlargest(1,['Timepoint'])['Tumor Volume (mm3)']\n",
    "Infubinol_final_vol = cleaned.loc[cleaned['Drug Regimen'] == \"Infubinol\"].nlargest(1,['Timepoint'])['Tumor Volume (mm3)']\n",
    "Ceftamin_final_vol = cleaned.loc[cleaned['Drug Regimen'] == \"Ceftamin\"].nlargest(1,['Timepoint'])['Tumor Volume (mm3)']\n",
    "\n",
    "\n",
    "\n",
    "# Merge this group df with the original DataFrame to get the tumor volume at the last timepoint\n",
    "\n",
    "# Create data frames for each regimine\n",
    "Capomulin_final_vol = pd.DataFrame({\"Drug Regimen\" : [\"Capomulin\"], \"Final Tumor Voulume (mm3)\" : Capomulin_final_vol}).set_index('Drug Regimen', drop=True)\n",
    "Ramicane_final_vol = pd.DataFrame({\"Drug Regimen\" : [\"Ramicane\"], \"Final Tumor Voulume (mm3)\" : Ramicane_final_vol}).set_index('Drug Regimen', drop=True)\n",
    "Infubinol_final_vol = pd.DataFrame({\"Drug Regimen\" : [\"Infubinol\"], \"Final Tumor Voulume (mm3)\" : Infubinol_final_vol}).set_index('Drug Regimen', drop=True)\n",
    "Ceftamin_final_vol = pd.DataFrame({\"Drug Regimen\" : [\"Ceftamin\"], \"Final Tumor Voulume (mm3)\" : Ceftamin_final_vol}).set_index('Drug Regimen', drop=True)\n",
    "\n",
    "#Combine the regimine dataframes\n",
    "tumor_voulume = pd.concat([Capomulin_final_vol, Ramicane_final_vol, Infubinol_final_vol, Ceftamin_final_vol])\n",
    "\n",
    "# Merge with original DataFrame. \n",
    "final_tumor_voulume = pd.merge(combined_data, tumor_voulume, how=\"right\", on=['Drug Regimen']).fillna(method='ffill')\n"
   ]
  },
  {
   "cell_type": "code",
   "execution_count": 14,
   "metadata": {
    "tags": []
   },
   "outputs": [],
   "source": [
    "# Put treatments into a list for for loop (and later for plot labels)\n",
    "regimen = final_tumor_voulume['Drug Regimen'].unique()\n",
    "\n",
    "# Create empty list to fill with tumor vol data (for plotting)\n",
    "regimen_vol_data = []\n",
    "Capomulin_vol_data = []\n",
    "Ramicane_vol_data = []\n",
    "Infubinol_vol_data = []\n",
    "Ceftamin_vol_data = []\n",
    "\n",
    "\n",
    "# Calculate the IQR and quantitatively determine if there are any potential outliers. \n",
    "\n",
    "# Calculate the IQR\n",
    "Q1 = final_tumor_voulume['Tumor Volume (mm3)'].quantile(0.25)\n",
    "Q3 = final_tumor_voulume['Tumor Volume (mm3)'].quantile(0.75)\n",
    "IQR = Q3 - Q1\n",
    "\n",
    "# Determine if there are any outliers. All False are outliers. This returned 16 outliers and 798 within range so yes there are outliers\n",
    "IQR_filtered = ((final_tumor_voulume['Tumor Volume (mm3)'] >= Q1 - 1.5*IQR) & (final_tumor_voulume['Tumor Volume (mm3)'] <= Q3 + 1.5*IQR)).value_counts()\n",
    "\n",
    "\n",
    "    # Locate the rows which contain mice on each drug and get the tumor volumes\n",
    "for index, row in final_tumor_voulume.iterrows():\n",
    "        if row['Drug Regimen'] == regimen[0]:\n",
    "            Capomulin_vol_data.append(row['Tumor Volume (mm3)'])\n",
    "        elif row['Drug Regimen'] == regimen[1]:\n",
    "            Ramicane_vol_data.append(row['Tumor Volume (mm3)'])\n",
    "        elif row['Drug Regimen'] == regimen[2]:\n",
    "            Infubinol_vol_data.append(row['Tumor Volume (mm3)'])\n",
    "        elif row['Drug Regimen'] == regimen[3]:\n",
    "            Ceftamin_vol_data.append(row['Tumor Volume (mm3)'])\n",
    "        else:\n",
    "            print(\"unexpected drug regimen\")     \n",
    "    \n",
    "    # add subset \n",
    "regimen_vol_data = [Capomulin_vol_data, Ramicane_vol_data, Infubinol_vol_data, Ceftamin_vol_data]\n",
    "\n",
    "# Create a DataFrame of Volume Data in columns of the regimens\n",
    "Capomulin_vol_df = pd.DataFrame({regimen[0] : regimen_vol_data[0]})\n",
    "Ramicane_vol_df = pd.DataFrame({regimen[1] : regimen_vol_data[1]})\n",
    "Infubinol_vol_df = pd.DataFrame({regimen[2] : regimen_vol_data[2]})\n",
    "Ceftamin_vol_df = pd.DataFrame({regimen[3] : regimen_vol_data[3]})\n",
    "\n",
    "regimen_tumor_voulume = pd.concat([Capomulin_vol_df, Ramicane_vol_df, Infubinol_vol_df, Ceftamin_vol_df], axis=1)\n",
    "    \n",
    "# Determine outliers using upper and lower bounds for Capomulin\n",
    "Capomulin_Q1 = regimen_tumor_voulume[regimen[0]].quantile(0.25)\n",
    "Capomulin_Q3 = regimen_tumor_voulume[regimen[0]].quantile(0.75)\n",
    "Capomulin_IQR = Capomulin_Q3 - Capomulin_Q1\n",
    "Capomulin_IQR_filtered = ((regimen_tumor_voulume[regimen[0]] >= Capomulin_Q1 - 1.5*Capomulin_IQR) & \n",
    "                          (regimen_tumor_voulume[regimen[0]] <= Capomulin_Q3 + 1.5*Capomulin_IQR)).value_counts()\n",
    "\n",
    "# Determine outliers using upper and lower bounds for Ramicane\n",
    "Ramicane_Q1 = regimen_tumor_voulume[regimen[1]].quantile(0.25)\n",
    "Ramicane_Q3 = regimen_tumor_voulume[regimen[1]].quantile(0.75)\n",
    "Ramicane_IQR = Ramicane_Q3 - Ramicane_Q1\n",
    "Capomulin_IQR_filtered = ((regimen_tumor_voulume[regimen[1]] >= Ramicane_Q1 - 1.5*Ramicane_IQR) & \n",
    "                          (regimen_tumor_voulume[regimen[1]] <= Ramicane_Q3 + 1.5*Ramicane_IQR)).value_counts()\n",
    "\n",
    "# Determine outliers using upper and lower bounds for Infubinol\n",
    "Infubinol_Q1 = regimen_tumor_voulume[regimen[2]].quantile(0.25)\n",
    "Infubinol_Q3 = regimen_tumor_voulume[regimen[2]].quantile(0.75)\n",
    "Infubinol_IQR = Infubinol_Q3 - Infubinol_Q1\n",
    "Infubinol_IQR_filtered = ((regimen_tumor_voulume[regimen[2]] >= Infubinol_Q1 - 1.5*Infubinol_IQR) & \n",
    "                          (regimen_tumor_voulume[regimen[2]] <= Infubinol_Q3 + 1.5*Infubinol_IQR)).value_counts()\n",
    "\n",
    "# Determine outliers using upper and lower bounds for Ceftamin\n",
    "Ceftamin_Q1 = regimen_tumor_voulume[regimen[3]].quantile(0.25)\n",
    "Ceftamin_Q3 = regimen_tumor_voulume[regimen[3]].quantile(0.75)\n",
    "Ceftamin_IQR = Ceftamin_Q3 - Ceftamin_Q1\n",
    "Ceftamin_IQR_filtered = ((regimen_tumor_voulume[regimen[3]] >= Ceftamin_Q1 - 1.5*Ceftamin_IQR) & \n",
    "                          (regimen_tumor_voulume[regimen[3]] <= Ceftamin_Q3 + 1.5*Ceftamin_IQR)).value_counts()\n"
   ]
  },
  {
   "cell_type": "code",
   "execution_count": 15,
   "metadata": {},
   "outputs": [
    {
     "data": {
      "image/png": "[encoded data removed]",
      "text/plain": [
       "<Figure size 640x480 with 1 Axes>"
      ]
     },
     "metadata": {},
     "output_type": "display_data"
    }
   ],
   "source": [
    "# Generate a box plot that shows the distrubution of the tumor volume for each treatment group.\n",
    "fig1, ax1 = plt.subplots()\n",
    "ax1.boxplot(regimen_vol_data)\n",
    "plt.xticks([1, 2, 3, 4], regimen)\n",
    "ax1.set_ylabel(\"Final Tumor Voulume (mm3)\")\n",
    "plt.show()"
   ]
  },
  {
   "cell_type": "markdown",
   "metadata": {},
   "source": [
    "## Line and Scatter Plots"
   ]
  },
  {
   "cell_type": "code",
   "execution_count": 25,
   "metadata": {},
   "outputs": [
    {
     "data": {
      "image/png": "[encoded data removed]",
      "text/plain": [
       "<Figure size 640x480 with 1 Axes>"
      ]
     },
     "metadata": {},
     "output_type": "display_data"
    }
   ],
   "source": [
    "# Generate a line plot of tumor volume vs. time point for a single mouse treated with Capomulin\n",
    "\n",
    "# Pick a mouse on Capomulin, Im showing the first, but I lloked at several for making my analysis.\n",
    "line_mouse_id = final_tumor_voulume[final_tumor_voulume['Drug Regimen'] == regimen[0]].iloc[0]['Mouse ID']\n",
    "# Get the tumor volumes and timepoints for this mouse\n",
    "line_tumor_vols = final_tumor_voulume[final_tumor_voulume['Mouse ID'] == line_mouse_id]['Tumor Volume (mm3)'].tolist() \n",
    "line_timepoints = final_tumor_voulume[final_tumor_voulume['Mouse ID'] == line_mouse_id]['Timepoint'].tolist() \n",
    "\n",
    "# Create title string\n",
    "title = regimen[0] + \" treatment for mouse \" + line_mouse_id\n",
    "\n",
    "# Plot the line graph with x and y labels, and the title\n",
    "plt.plot(line_timepoints, line_tumor_vols)\n",
    "plt.ylabel(\"Tumor Volume (mm3)\")  \n",
    "plt.xlabel(\"Timepoint (days)\")  \n",
    "plt.title(title) \n",
    "plt.show()"
   ]
  },
  {
   "cell_type": "code",
   "execution_count": 17,
   "metadata": {},
   "outputs": [
    {
     "data": {
      "image/png": "[encoded data removed]",
      "text/plain": [
       "<Figure size 640x480 with 1 Axes>"
      ]
     },
     "metadata": {},
     "output_type": "display_data"
    }
   ],
   "source": [
    "# Generate a scatter plot of mouse weight vs. the average observed tumor volume for the entire Capomulin regimen\n",
    "\n",
    "# Create a subset of just mice on Caomulin\n",
    "Capomulin_subset = final_tumor_voulume.loc[final_tumor_voulume['Drug Regimen'] == regimen[0]]\n",
    "\n",
    "# get the average weight and tumor volume\n",
    "average_weight = Capomulin_subset.groupby(\"Mouse ID\")[\"Weight (g)\"].mean().tolist()\n",
    "avg_tumor_volume = Capomulin_subset.groupby(\"Mouse ID\")['Tumor Volume (mm3)'].mean().tolist()\n",
    "\n",
    "# Plot the scatter plot of the average weight and tumor volume\n",
    "plt.scatter(average_weight, avg_tumor_volume, c =\"tab:blue\")\n",
    "plt.xlabel(\"Weight\") \n",
    "plt.ylabel(\"Average Tumor Volume (mm3)\")\n",
    "plt.show()\n"
   ]
  },
  {
   "cell_type": "markdown",
   "metadata": {},
   "source": [
    "## Correlation and Regression"
   ]
  },
  {
   "cell_type": "code",
   "execution_count": 18,
   "metadata": {},
   "outputs": [
    {
     "name": "stdout",
     "output_type": "stream",
     "text": [
      "The correlation coefficient between mouse weight and the average tumor volume is 0.84\n"
     ]
    },
    {
     "data": {
      "image/png": "[encoded data removed]",
      "text/plain": [
       "<Figure size 640x480 with 1 Axes>"
      ]
     },
     "metadata": {},
     "output_type": "display_data"
    }
   ],
   "source": [
    "# Calculate the correlation coefficient and a linear regression model \n",
    "# for mouse weight and average observed tumor volume for the entire Capomulin regimen\n",
    "\n",
    "# get the linear regression model\n",
    "results = st.linregress(average_weight, avg_tumor_volume)\n",
    "\n",
    "# Convert array to a series for calculations\n",
    "avg_weight = pd.Series(average_weight)\n",
    "\n",
    "# Calculate and print the correlation coefficient \n",
    "print(f\"The correlation coefficient between mouse weight and the average tumor volume is {round(st.pearsonr(avg_weight,avg_tumor_volume)[0],2)}\")\n",
    "\n",
    "# Plot the scatter plot of the average weight and tumor volume\n",
    "plt.scatter(avg_weight, avg_tumor_volume, c =\"tab:blue\")\n",
    "plt.plot(avg_weight, results.intercept + results.slope*(avg_weight), 'r', label='fitted line')\n",
    "plt.xlabel(\"Weight\") \n",
    "plt.ylabel(\"Average Tumor Volume (mm3)\")\n",
    "plt.show()\n"
   ]
  },
  {
   "cell_type": "code",
   "execution_count": null,
   "metadata": {},
   "outputs": [],
   "source": []
  }
 ],
 "metadata": {
  "anaconda-cloud": {},
  "kernelspec": {
   "display_name": "Python 3 (ipykernel)",
   "language": "python",
   "name": "python3"
  },
  "language_info": {
   "codemirror_mode": {
    "name": "ipython",
    "version": 3
   },
   "file_extension": ".py",
   "mimetype": "text/x-python",
   "name": "python",
   "nbconvert_exporter": "python",
   "pygments_lexer": "ipython3",
   "version": "3.10.11"
  }
 },
 "nbformat": 4,
 "nbformat_minor": 4
}
